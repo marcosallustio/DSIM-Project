{
 "cells": [
  {
   "cell_type": "code",
   "execution_count": 32,
   "id": "b4863b64",
   "metadata": {},
   "outputs": [],
   "source": [
    "import sounddevice as sd\n",
    "import scipy.io.wavfile as wav\n",
    "import os\n",
    "import librosa\n",
    "\n",
    "import ipywidgets as widgets\n",
    "from IPython.display import display"
   ]
  },
  {
   "cell_type": "code",
   "execution_count": 2,
   "id": "23347aae",
   "metadata": {
    "scrolled": true
   },
   "outputs": [],
   "source": [
    "def trim_silence(input_file, output_file, threshold=40):\n",
    "    # Load the audio file\n",
    "    audio_data, sample_rate = librosa.load(input_file)\n",
    "\n",
    "    # Extract the non-silent portion\n",
    "    trimmed_audio_data, _ = librosa.effects.trim(audio_data, top_db=threshold)\n",
    "\n",
    "    # Save the trimmed audio to a new file\n",
    "    wav.write(output_file, sample_rate,trimmed_audio_data)\n",
    "\n"
   ]
  },
  {
   "cell_type": "code",
   "execution_count": 261,
   "id": "7ca9be56",
   "metadata": {},
   "outputs": [],
   "source": [
    "def record_and_save_audio(number, name, num_recordings, sample_rate=8000, duration=3):\n",
    "    # Create the directory if it not exist\n",
    "    folder_path = f\"{number}_{name}_recordings\"\n",
    "    if not os.path.exists(folder_path):\n",
    "        os.makedirs(folder_path)\n",
    "    \n",
    "\n",
    "    for i in range(0, num_recordings ):\n",
    "        # Record the audio\n",
    "        print(\"Recording.....\\n\")\n",
    "        audio_data = sd.rec(int(sample_rate * duration), samplerate=sample_rate, channels=1, dtype='int16')\n",
    "        sd.wait()\n",
    "        \n",
    "        #Save the audio and the trimmed version as WAV file\n",
    "        \n",
    "        filename = f\"{number}_{name}_{i}_raw.wav\"\n",
    "        pathr = os.path.join(f\"{number}_{name}_recordings\", filename)\n",
    "        trimmed = f\"{number}_{name}_{i}.wav\"\n",
    "        path2 = os.path.join(f\"{number}_{name}_recordings\", trimmed)\n",
    "        \n",
    "        wav.write(pathr, sample_rate, audio_data)\n",
    "        trim_silence(pathr, path2)\n",
    "        \n",
    "        print(f\"Audio {i} recorded and saved\")\n",
    "\n",
    "def get_user_input():\n",
    "    # Ask the user to insert a number\n",
    "    number = input(\"Choose a number from 0 to 9:\")\n",
    "    try:\n",
    "        number = int(number)\n",
    "        if 0 <= number <= 9:\n",
    "            pass\n",
    "        else:\n",
    "            print(\"Number should be between 0 and 9.\")\n",
    "            return None\n",
    "    except ValueError:\n",
    "        print(\"Invalid input. Please enter a valid number.\")\n",
    "        return None\n",
    "\n",
    "    # Ask the user to insert a name\n",
    "    name = input(\"Choose a name:\")\n",
    "    if not name:\n",
    "        print(\"Invalid input. Name cannot be empty.\")\n",
    "        return None\n",
    "\n",
    "    return number, name\n"
   ]
  },
  {
   "cell_type": "code",
   "execution_count": 262,
   "id": "87b9792f",
   "metadata": {
    "scrolled": true
   },
   "outputs": [
    {
     "name": "stdout",
     "output_type": "stream",
     "text": [
      "Recording.....\n",
      "\n",
      "Audio 0 recorded and saved\n"
     ]
    }
   ],
   "source": [
    "# input dell'utente\n",
    "user_input = get_user_input()\n",
    "\n",
    "\n",
    "if user_input:\n",
    "    number, name = user_input\n",
    "    record_and_save_audio(number, name, num_recordings=50)\n"
   ]
  },
  {
   "cell_type": "code",
   "execution_count": 263,
   "id": "81a71238",
   "metadata": {},
   "outputs": [
    {
     "name": "stdout",
     "output_type": "stream",
     "text": [
      "File 9_Marco_0_raw.wav deleted.\n"
     ]
    }
   ],
   "source": [
    "def delete_raw_files():\n",
    "    # Itera sulle cartelle\n",
    "    for folder_name in os.listdir():\n",
    "        if os.path.isdir(folder_name) and folder_name.endswith(\"_recordings\"):\n",
    "            folder_path = os.path.join(os.getcwd(), folder_name)\n",
    "            \n",
    "            # Itera sui file nella cartella\n",
    "            for file_name in os.listdir(folder_path):\n",
    "                if file_name.endswith(\"_raw.wav\"):\n",
    "                    file_path = os.path.join(folder_path, file_name)\n",
    "                    \n",
    "                    # Elimina il file\n",
    "                    os.remove(file_path)\n",
    "                    print(f\"File {file_name} deleted.\")\n",
    "\n",
    "delete_raw_files()"
   ]
  },
  {
   "cell_type": "code",
   "execution_count": 264,
   "id": "aa73fdb3",
   "metadata": {},
   "outputs": [],
   "source": [
    "import IPython.display as ipd\n",
    "\n",
    "os.chdir(\"C:/Users/sasir/Desktop/digital project/9_Marco_recordings/\")\n",
    "for filename in os.listdir(os.getcwd()):\n",
    "#     print(filename)\n",
    "    sr, audio = wav.read(filename)\n",
    "    \n",
    "    durata_audio_sec = librosa.get_duration(y=audio, sr=sr)\n",
    "    if durata_audio_sec >= 1:\n",
    "        print(f\"Riproduzione di: {filename}\")\n",
    "        ipd.display(ipd.Audio(data=audio, rate=sr))\n",
    "    \n",
    "os.chdir(\"C:/Users/sasir/Desktop/digital project/\")"
   ]
  },
  {
   "cell_type": "code",
   "execution_count": null,
   "id": "20bfad71",
   "metadata": {},
   "outputs": [],
   "source": []
  },
  {
   "cell_type": "code",
   "execution_count": null,
   "id": "901332a8",
   "metadata": {},
   "outputs": [],
   "source": []
  }
 ],
 "metadata": {
  "kernelspec": {
   "display_name": "Python 3 (ipykernel)",
   "language": "python",
   "name": "python3"
  },
  "language_info": {
   "codemirror_mode": {
    "name": "ipython",
    "version": 3
   },
   "file_extension": ".py",
   "mimetype": "text/x-python",
   "name": "python",
   "nbconvert_exporter": "python",
   "pygments_lexer": "ipython3",
   "version": "3.10.9"
  }
 },
 "nbformat": 4,
 "nbformat_minor": 5
}
