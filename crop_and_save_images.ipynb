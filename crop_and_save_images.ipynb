{
  "nbformat": 4,
  "nbformat_minor": 0,
  "metadata": {
    "colab": {
      "provenance": []
    },
    "kernelspec": {
      "name": "python3",
      "display_name": "Python 3"
    },
    "language_info": {
      "name": "python"
    }
  },
  "cells": [
    {
      "cell_type": "code",
      "source": [
        "!pip install mtcnn"
      ],
      "metadata": {
        "colab": {
          "base_uri": "https://localhost:8080/"
        },
        "id": "S_y8jw510nFu",
        "outputId": "8d322d0f-5cf3-432c-e2c4-5ffc5814ee5f"
      },
      "execution_count": null,
      "outputs": [
        {
          "output_type": "stream",
          "name": "stdout",
          "text": [
            "Requirement already satisfied: mtcnn in /usr/local/lib/python3.10/dist-packages (0.1.1)\n",
            "Requirement already satisfied: keras>=2.0.0 in /usr/local/lib/python3.10/dist-packages (from mtcnn) (2.15.0)\n",
            "Requirement already satisfied: opencv-python>=4.1.0 in /usr/local/lib/python3.10/dist-packages (from mtcnn) (4.8.0.76)\n",
            "Requirement already satisfied: numpy>=1.21.2 in /usr/local/lib/python3.10/dist-packages (from opencv-python>=4.1.0->mtcnn) (1.23.5)\n"
          ]
        }
      ]
    },
    {
      "cell_type": "code",
      "execution_count": null,
      "metadata": {
        "id": "ee3BUihTz7XO"
      },
      "outputs": [],
      "source": [
        "import tensorflow_datasets as tfds\n",
        "import mtcnn\n",
        "from mtcnn.mtcnn import MTCNN\n",
        "import pandas as pd\n",
        "import tensorflow as tf\n",
        "#import tensorflow_datasets.public_api as tfds\n",
        "import tensorflow_datasets as tfds\n",
        "import pandas as pd\n",
        "import numpy as np\n",
        "import os\n",
        "import cv2 as cv\n",
        "from matplotlib import image\n",
        "from matplotlib import pyplot as plt\n",
        "\n",
        "# Face detector\n",
        "import mtcnn\n",
        "from mtcnn.mtcnn import MTCNN"
      ]
    },
    {
      "cell_type": "code",
      "source": [
        "from google.colab import drive\n",
        "drive.mount('/content/drive')"
      ],
      "metadata": {
        "colab": {
          "base_uri": "https://localhost:8080/"
        },
        "id": "sEMBB8Jz2tWL",
        "outputId": "cb264e20-d32b-4b96-fed1-6d3f598647e8"
      },
      "execution_count": null,
      "outputs": [
        {
          "output_type": "stream",
          "name": "stdout",
          "text": [
            "Drive already mounted at /content/drive; to attempt to forcibly remount, call drive.mount(\"/content/drive\", force_remount=True).\n"
          ]
        }
      ]
    },
    {
      "cell_type": "code",
      "source": [
        "detector = MTCNN()"
      ],
      "metadata": {
        "id": "UtuZsPQs1izC"
      },
      "execution_count": null,
      "outputs": []
    },
    {
      "cell_type": "code",
      "source": [
        "import os\n",
        "import cv2\n",
        "from mtcnn.mtcnn import MTCNN\n",
        "\n",
        "def apply_mtcnn_and_save(input_folder, output_folder):\n",
        "    detector = MTCNN()\n",
        "\n",
        "    if not os.path.exists(output_folder):\n",
        "        os.makedirs(output_folder)\n",
        "\n",
        "\n",
        "    for filename in os.listdir(input_folder):\n",
        "        if filename.endswith(\".jpg\") or filename.endswith(\".jpeg\") or filename.endswith(\".png\"):\n",
        "            img_path = os.path.join(input_folder, filename)\n",
        "            img = cv2.imread(img_path)\n",
        "\n",
        "            faces = detector.detect_faces(img)\n",
        "\n",
        "            if not faces:\n",
        "                print(f\"Nessun volto rilevato in {filename}\")\n",
        "                continue\n",
        "\n",
        "            for i, face in enumerate(faces):\n",
        "                x, y, w, h = face['box']\n",
        "\n",
        "                if w < 50 or h < 50:\n",
        "                    print(f\"Volto troppo piccolo in {filename}, non salvato\")\n",
        "                    continue\n",
        "\n",
        "                face_crop = img[y:y+h, x:x+w]\n",
        "\n",
        "                output_path = os.path.join(output_folder, f\"crop_{filename}\")\n",
        "                cv2.imwrite(output_path, face_crop)"
      ],
      "metadata": {
        "id": "LeFH_6NYqtFh"
      },
      "execution_count": null,
      "outputs": []
    },
    {
      "cell_type": "code",
      "source": [
        "input_folder_path = '/content/drive/MyDrive/foto_final'\n",
        "output_folder_path = '/content/drive/MyDrive/foto_crop'\n",
        "\n",
        "apply_mtcnn_and_save(input_folder_path, output_folder_path)"
      ],
      "metadata": {
        "id": "jDwS0ZAZq5vh"
      },
      "execution_count": null,
      "outputs": []
    }
  ]
}