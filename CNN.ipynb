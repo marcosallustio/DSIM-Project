{
 "cells": [
  {
   "cell_type": "markdown",
   "id": "0aa6d618",
   "metadata": {},
   "source": [
    "**Importing libraries**"
   ]
  },
  {
   "cell_type": "code",
   "execution_count": 1,
   "id": "875197fd",
   "metadata": {},
   "outputs": [],
   "source": [
    "import random\n",
    "import os\n",
    "import numpy as np\n",
    "from scipy.io import wavfile as wav\n",
    "from scipy.signal import spectrogram\n",
    "from librosa.feature import melspectrogram, mfcc\n",
    "\n",
    "import matplotlib.pyplot as plt\n",
    "\n",
    "from sklearn.metrics import accuracy_score, confusion_matrix, classification_report\n",
    "from sklearn.model_selection import train_test_split\n",
    "from tensorflow.keras.utils import to_categorical\n",
    "\n",
    "from sklearn.preprocessing import LabelEncoder \n",
    "\n",
    "import tensorflow as tf\n",
    "from tensorflow.keras.models import Sequential\n",
    "from tensorflow.keras.layers import Dense, Dropout, Flatten\n",
    "from tensorflow.keras.layers import Input, Conv2D, MaxPooling2D, Flatten, Dense,Bidirectional,LSTM\n",
    "from tensorflow.keras.models import Model"
   ]
  },
  {
   "cell_type": "markdown",
   "id": "b5a7c4a5",
   "metadata": {},
   "source": [
    "**Define Data Loader**"
   ]
  },
  {
   "cell_type": "code",
   "execution_count": 2,
   "id": "af052075",
   "metadata": {},
   "outputs": [],
   "source": [
    "# Data loader\n",
    "def load_data(feature_extractor, normalize=False):\n",
    "\n",
    "    speaker_labels = []\n",
    "    num_labels = []\n",
    "    features = []\n",
    "    labels_data = []\n",
    "\n",
    "    for f in sorted(os.listdir('./recordings')):\n",
    "        if f.endswith('.wav'):\n",
    "            # Load file and compute the requested features\n",
    "            sr, signal = wav.read('./recordings/' + f)\n",
    "            cur_features = feature_extractor(signal)\n",
    "            features.append(cur_features)\n",
    "\n",
    "            # Classes\n",
    "            speaker = str(f.split('_')[1])\n",
    "            if speaker == \"jackson\":\n",
    "                speaker = 1\n",
    "            elif speaker == \"nicolas\":\n",
    "                speaker = 1\n",
    "            elif speaker == \"theo\":\n",
    "                speaker = 1\n",
    "            elif speaker == \"Salvatore\":\n",
    "                speaker = 2\n",
    "            elif speaker == \"Marco\":\n",
    "                speaker = 3\n",
    "                \n",
    "            speaker_labels.append(speaker)\n",
    "            \n",
    "            num = int(f.split('_')[0])\n",
    "            num_labels.append(num)\n",
    "\n",
    "            labels_data.append((speaker, num))\n",
    "\n",
    "    # Convert lists in numpy array\n",
    "    features = np.array(features)\n",
    "    labels_data = np.array(labels_data)\n",
    "            \n",
    "    \n",
    "    # Split the data into training and testing sets\n",
    "    X_train, X_test, y_train, y_test = train_test_split(\n",
    "        features, labels_data , test_size=0.2, random_state=42)\n",
    "\n",
    "    \n",
    "\n",
    "    if normalize:\n",
    "        eps = 0.001\n",
    "        X_train = np.array(X_train)\n",
    "        X_train_mean = X_train.mean(axis=0)\n",
    "        X_train_std = X_train.std(axis=0)\n",
    "        X_train = (X_train - X_train_mean + eps)/(X_train_std + eps)\n",
    "        X_train = [row for row in X_train]\n",
    "\n",
    "        X_test = [row for row in (np.array(X_test) - X_train_mean + eps)/(X_train_std + eps)]\n",
    "\n",
    "    return np.array(X_train), np.array(X_test), np.array(y_train), np.array(y_test), X_train_mean, X_train_std"
   ]
  },
  {
   "cell_type": "markdown",
   "id": "ee3bf6d7",
   "metadata": {},
   "source": [
    "# Features"
   ]
  },
  {
   "cell_type": "markdown",
   "id": "e83361f6",
   "metadata": {},
   "source": [
    "**Temporal Features**"
   ]
  },
  {
   "cell_type": "code",
   "execution_count": 3,
   "id": "fa23ade6",
   "metadata": {},
   "outputs": [],
   "source": [
    "def energy(input):\n",
    "    return np.sum((input*1.0)**2, keepdims=True)"
   ]
  },
  {
   "cell_type": "code",
   "execution_count": 4,
   "id": "c1324e0a",
   "metadata": {},
   "outputs": [],
   "source": [
    "def std(input):\n",
    "    return np.std(input, keepdims=True)"
   ]
  },
  {
   "cell_type": "code",
   "execution_count": 5,
   "id": "52c4a1b2",
   "metadata": {},
   "outputs": [],
   "source": [
    "def zcr(input):\n",
    "    return np.array([np.nonzero(np.diff(np.sign(input+1)))[0].size])"
   ]
  },
  {
   "cell_type": "markdown",
   "id": "b8d0252d",
   "metadata": {},
   "source": [
    "**Frequency features**"
   ]
  },
  {
   "cell_type": "code",
   "execution_count": 6,
   "id": "2c94b033",
   "metadata": {},
   "outputs": [],
   "source": [
    "def self_mfcc(input, rate = 8000, tsize=50):\n",
    "    mfc = mfcc(y = input*1.0, sr = rate)\n",
    "    \n",
    "    # if less than tsize, add additional necessary zeroes   \n",
    "    if mfc.shape[1] < tsize:\n",
    "            pad_width = tsize - mfc.shape[1]\n",
    "            mfc = np.pad(mfc, pad_width=((0, 0), (0, pad_width)))\n",
    "\n",
    "    # If more than tsize, trim \n",
    "    elif mfc.shape[1] > tsize:\n",
    "            mfc = mfc[:, :tsize]\n",
    "    \n",
    "    \n",
    "    output = mfc.flatten()\n",
    "    return output"
   ]
  },
  {
   "cell_type": "code",
   "execution_count": 7,
   "id": "ca3b4ea8",
   "metadata": {},
   "outputs": [],
   "source": [
    "def combo(input):\n",
    "    return np.concatenate((std(input), energy(input), zcr(input), self_mfcc(input)))"
   ]
  },
  {
   "cell_type": "markdown",
   "id": "9b849add",
   "metadata": {},
   "source": [
    "# Loading Data"
   ]
  },
  {
   "cell_type": "code",
   "execution_count": 8,
   "id": "95011371",
   "metadata": {
    "scrolled": true
   },
   "outputs": [],
   "source": [
    "import warnings\n",
    "# Ignore all warnings\n",
    "warnings.filterwarnings(\"ignore\")"
   ]
  },
  {
   "cell_type": "code",
   "execution_count": 9,
   "id": "b0cd1765",
   "metadata": {
    "scrolled": true
   },
   "outputs": [],
   "source": [
    "# Data loading\n",
    "X_train, X_test, y_train, y_test, mean, std = load_data(feature_extractor = combo, normalize=True)"
   ]
  },
  {
   "cell_type": "code",
   "execution_count": 10,
   "id": "2f37dc9d",
   "metadata": {},
   "outputs": [],
   "source": [
    "# Reset warnings filter to default behavior\n",
    "warnings.filterwarnings(\"default\")"
   ]
  },
  {
   "cell_type": "code",
   "execution_count": 11,
   "id": "444f8523",
   "metadata": {},
   "outputs": [],
   "source": [
    "# Save features\n",
    "np.save('combo_X_train.npy', X_train)\n",
    "np.save('combo_y_train.npy', y_train)\n",
    "np.save('combo_X_test.npy', X_test)\n",
    "np.save('combo_y_test.npy', y_test)\n",
    "np.save('combo_mean.npy', mean)\n",
    "np.save('combo_std.npy', std)"
   ]
  },
  {
   "cell_type": "code",
   "execution_count": 12,
   "id": "18469737",
   "metadata": {},
   "outputs": [],
   "source": [
    "# Load extracted features\n",
    "X_train = np.load('combo_X_train.npy')\n",
    "y_train = np.load('combo_y_train.npy')\n",
    "X_test = np.load('combo_X_test.npy')\n",
    "y_test = np.load('combo_y_test.npy')"
   ]
  },
  {
   "cell_type": "code",
   "execution_count": 13,
   "id": "e32ecbaf",
   "metadata": {},
   "outputs": [],
   "source": [
    "num_speakers=3\n",
    "num_classes=10"
   ]
  },
  {
   "cell_type": "code",
   "execution_count": 14,
   "id": "ef34f0b2",
   "metadata": {},
   "outputs": [],
   "source": [
    "# Data loading\n",
    "X_train, X_val, y_train, y_val = train_test_split(X_train, y_train, test_size=0.2, random_state=42)"
   ]
  },
  {
   "cell_type": "code",
   "execution_count": 15,
   "id": "544bc7f5",
   "metadata": {
    "scrolled": true
   },
   "outputs": [],
   "source": [
    "def CNN_model(num_speakers, num_classes):\n",
    "    input_layer=Input(shape=np.shape(X_train)[1])\n",
    "\n",
    "    x= Dense(256, activation='relu')(input_layer)\n",
    "    x= Dense(256, activation='relu')(x)\n",
    "    x= Dense(128, activation='relu')(x)\n",
    "    x= Dropout(0.3)(x)\n",
    "\n",
    "    # Fully connected layers for speaker classification\n",
    "    dense_speaker = Dense(128, activation='relu')(x)\n",
    "    output_speaker = Dense(num_speakers, activation='softmax', name='speaker')(dense_speaker)\n",
    "\n",
    "    # Fully connected layers for digit recognition\n",
    "    dense_digit = Dense(128, activation='relu')(x)\n",
    "    output_digit = Dense(num_classes, activation='softmax', name='digit')(dense_digit)\n",
    "\n",
    "\n",
    "    # Model\n",
    "    combined_model = Model(inputs=[input_layer], outputs=[output_speaker, output_digit])\n",
    "    return combined_model"
   ]
  },
  {
   "cell_type": "code",
   "execution_count": 16,
   "id": "c9fdb6d0",
   "metadata": {},
   "outputs": [],
   "source": [
    "model = CNN_model(num_speakers, num_classes)\n",
    "model.compile(optimizer='adam',\n",
    "              loss={'speaker': 'categorical_crossentropy','digit': 'sparse_categorical_crossentropy'},\n",
    "              metrics={'speaker': 'categorical_accuracy', 'digit': 'accuracy'})"
   ]
  },
  {
   "cell_type": "code",
   "execution_count": 17,
   "id": "30e1dba1",
   "metadata": {},
   "outputs": [
    {
     "data": {
      "image/png": "[encoded data removed]",
      "text/plain": [
       "<IPython.core.display.Image object>"
      ]
     },
     "execution_count": 17,
     "metadata": {},
     "output_type": "execute_result"
    }
   ],
   "source": [
    "from tensorflow.keras.utils import plot_model\n",
    "plot_model(model, to_file='CNN.png',show_shapes=True, show_dtype=True, show_layer_activations=True)"
   ]
  },
  {
   "cell_type": "code",
   "execution_count": 18,
   "id": "5a5e20e4",
   "metadata": {},
   "outputs": [],
   "source": [
    "le = LabelEncoder()\n",
    "yS_train = to_categorical(le.fit_transform(y_train[:, 0]))\n",
    "yS_val = to_categorical(le.fit_transform(y_val[:, 0]))\n",
    "yS_test = to_categorical(le.fit_transform(y_test[:, 0]))\n",
    "\n",
    "yD_train = y_train[:, 1]\n",
    "yD_val = y_val[:, 1]\n",
    "yD_test = y_test[:, 1]"
   ]
  },
  {
   "cell_type": "code",
   "execution_count": 19,
   "id": "bfdf770b",
   "metadata": {
    "scrolled": true
   },
   "outputs": [
    {
     "name": "stdout",
     "output_type": "stream",
     "text": [
      "Epoch 1/20\n",
      "30/30 [==============================] - 2s 12ms/step - loss: 2.0788 - speaker_loss: 0.3431 - digit_loss: 1.7358 - speaker_categorical_accuracy: 0.8687 - digit_accuracy: 0.4125 - val_loss: 1.2675 - val_speaker_loss: 0.2274 - val_digit_loss: 1.0400 - val_speaker_categorical_accuracy: 0.9542 - val_digit_accuracy: 0.6417\n",
      "Epoch 2/20\n",
      "30/30 [==============================] - 0s 5ms/step - loss: 0.9243 - speaker_loss: 0.0876 - digit_loss: 0.8367 - speaker_categorical_accuracy: 0.9635 - digit_accuracy: 0.7198 - val_loss: 0.8290 - val_speaker_loss: 0.2540 - val_digit_loss: 0.5750 - val_speaker_categorical_accuracy: 0.9625 - val_digit_accuracy: 0.8375\n",
      "Epoch 3/20\n",
      "30/30 [==============================] - 0s 4ms/step - loss: 0.5259 - speaker_loss: 0.0481 - digit_loss: 0.4779 - speaker_categorical_accuracy: 0.9802 - digit_accuracy: 0.8458 - val_loss: 0.7188 - val_speaker_loss: 0.2927 - val_digit_loss: 0.4261 - val_speaker_categorical_accuracy: 0.9667 - val_digit_accuracy: 0.8708\n",
      "Epoch 4/20\n",
      "30/30 [==============================] - 0s 5ms/step - loss: 0.3201 - speaker_loss: 0.0171 - digit_loss: 0.3031 - speaker_categorical_accuracy: 0.9958 - digit_accuracy: 0.8917 - val_loss: 0.7866 - val_speaker_loss: 0.3878 - val_digit_loss: 0.3988 - val_speaker_categorical_accuracy: 0.9750 - val_digit_accuracy: 0.8875\n",
      "Epoch 5/20\n",
      "30/30 [==============================] - 0s 5ms/step - loss: 0.2624 - speaker_loss: 0.0161 - digit_loss: 0.2463 - speaker_categorical_accuracy: 0.9969 - digit_accuracy: 0.9104 - val_loss: 0.7251 - val_speaker_loss: 0.4053 - val_digit_loss: 0.3198 - val_speaker_categorical_accuracy: 0.9708 - val_digit_accuracy: 0.9208\n",
      "Epoch 6/20\n",
      "30/30 [==============================] - 0s 5ms/step - loss: 0.2187 - speaker_loss: 0.0179 - digit_loss: 0.2008 - speaker_categorical_accuracy: 0.9937 - digit_accuracy: 0.9229 - val_loss: 0.7734 - val_speaker_loss: 0.4728 - val_digit_loss: 0.3006 - val_speaker_categorical_accuracy: 0.9708 - val_digit_accuracy: 0.9333\n",
      "Epoch 7/20\n",
      "30/30 [==============================] - 0s 5ms/step - loss: 0.1762 - speaker_loss: 0.0122 - digit_loss: 0.1640 - speaker_categorical_accuracy: 0.9958 - digit_accuracy: 0.9500 - val_loss: 0.8605 - val_speaker_loss: 0.4988 - val_digit_loss: 0.3617 - val_speaker_categorical_accuracy: 0.9583 - val_digit_accuracy: 0.9292\n",
      "Epoch 8/20\n",
      "30/30 [==============================] - 0s 5ms/step - loss: 0.1822 - speaker_loss: 0.0154 - digit_loss: 0.1669 - speaker_categorical_accuracy: 0.9917 - digit_accuracy: 0.9427 - val_loss: 0.9151 - val_speaker_loss: 0.5427 - val_digit_loss: 0.3725 - val_speaker_categorical_accuracy: 0.9750 - val_digit_accuracy: 0.9208\n",
      "Epoch 9/20\n",
      "30/30 [==============================] - 0s 5ms/step - loss: 0.1375 - speaker_loss: 0.0296 - digit_loss: 0.1079 - speaker_categorical_accuracy: 0.9927 - digit_accuracy: 0.9646 - val_loss: 1.0181 - val_speaker_loss: 0.6444 - val_digit_loss: 0.3737 - val_speaker_categorical_accuracy: 0.9750 - val_digit_accuracy: 0.9208\n",
      "Epoch 10/20\n",
      "30/30 [==============================] - 0s 5ms/step - loss: 0.1692 - speaker_loss: 0.0258 - digit_loss: 0.1434 - speaker_categorical_accuracy: 0.9885 - digit_accuracy: 0.9604 - val_loss: 1.6492 - val_speaker_loss: 1.1742 - val_digit_loss: 0.4750 - val_speaker_categorical_accuracy: 0.9500 - val_digit_accuracy: 0.9167\n",
      "Epoch 11/20\n",
      "30/30 [==============================] - 0s 5ms/step - loss: 0.1726 - speaker_loss: 0.0231 - digit_loss: 0.1495 - speaker_categorical_accuracy: 0.9927 - digit_accuracy: 0.9604 - val_loss: 1.7838 - val_speaker_loss: 1.2832 - val_digit_loss: 0.5006 - val_speaker_categorical_accuracy: 0.9792 - val_digit_accuracy: 0.9375\n",
      "Epoch 12/20\n",
      "30/30 [==============================] - 0s 5ms/step - loss: 0.1343 - speaker_loss: 0.0138 - digit_loss: 0.1205 - speaker_categorical_accuracy: 0.9969 - digit_accuracy: 0.9646 - val_loss: 1.5288 - val_speaker_loss: 1.1153 - val_digit_loss: 0.4135 - val_speaker_categorical_accuracy: 0.9708 - val_digit_accuracy: 0.9333\n",
      "Epoch 13/20\n",
      "30/30 [==============================] - 0s 5ms/step - loss: 0.0967 - speaker_loss: 0.0077 - digit_loss: 0.0890 - speaker_categorical_accuracy: 0.9969 - digit_accuracy: 0.9667 - val_loss: 1.5868 - val_speaker_loss: 1.1398 - val_digit_loss: 0.4470 - val_speaker_categorical_accuracy: 0.9750 - val_digit_accuracy: 0.9292\n",
      "Epoch 14/20\n",
      "30/30 [==============================] - 0s 5ms/step - loss: 0.0919 - speaker_loss: 0.0090 - digit_loss: 0.0830 - speaker_categorical_accuracy: 0.9979 - digit_accuracy: 0.9750 - val_loss: 1.7411 - val_speaker_loss: 1.3322 - val_digit_loss: 0.4088 - val_speaker_categorical_accuracy: 0.9708 - val_digit_accuracy: 0.9417\n",
      "Epoch 15/20\n",
      "30/30 [==============================] - 0s 5ms/step - loss: 0.0765 - speaker_loss: 0.0301 - digit_loss: 0.0464 - speaker_categorical_accuracy: 0.9969 - digit_accuracy: 0.9844 - val_loss: 2.1262 - val_speaker_loss: 1.6283 - val_digit_loss: 0.4979 - val_speaker_categorical_accuracy: 0.9750 - val_digit_accuracy: 0.9333\n",
      "Epoch 16/20\n",
      "30/30 [==============================] - 0s 6ms/step - loss: 0.0964 - speaker_loss: 0.0073 - digit_loss: 0.0891 - speaker_categorical_accuracy: 0.9979 - digit_accuracy: 0.9719 - val_loss: 1.6701 - val_speaker_loss: 1.1719 - val_digit_loss: 0.4983 - val_speaker_categorical_accuracy: 0.9792 - val_digit_accuracy: 0.9333\n",
      "Epoch 17/20\n",
      "30/30 [==============================] - 0s 6ms/step - loss: 0.0843 - speaker_loss: 0.0073 - digit_loss: 0.0770 - speaker_categorical_accuracy: 0.9979 - digit_accuracy: 0.9771 - val_loss: 1.4273 - val_speaker_loss: 0.8920 - val_digit_loss: 0.5353 - val_speaker_categorical_accuracy: 0.9750 - val_digit_accuracy: 0.9458\n",
      "Epoch 18/20\n",
      "30/30 [==============================] - 0s 6ms/step - loss: 0.0606 - speaker_loss: 0.0030 - digit_loss: 0.0575 - speaker_categorical_accuracy: 0.9979 - digit_accuracy: 0.9896 - val_loss: 1.2995 - val_speaker_loss: 0.8028 - val_digit_loss: 0.4967 - val_speaker_categorical_accuracy: 0.9792 - val_digit_accuracy: 0.9542\n",
      "Epoch 19/20\n",
      "30/30 [==============================] - 0s 6ms/step - loss: 0.0286 - speaker_loss: 0.0045 - digit_loss: 0.0241 - speaker_categorical_accuracy: 0.9979 - digit_accuracy: 0.9917 - val_loss: 1.3604 - val_speaker_loss: 0.8128 - val_digit_loss: 0.5476 - val_speaker_categorical_accuracy: 0.9750 - val_digit_accuracy: 0.9417\n",
      "Epoch 20/20\n",
      "30/30 [==============================] - 0s 6ms/step - loss: 0.0396 - speaker_loss: 0.0036 - digit_loss: 0.0359 - speaker_categorical_accuracy: 0.9979 - digit_accuracy: 0.9896 - val_loss: 1.4909 - val_speaker_loss: 0.9230 - val_digit_loss: 0.5680 - val_speaker_categorical_accuracy: 0.9792 - val_digit_accuracy: 0.9250\n"
     ]
    }
   ],
   "source": [
    "history = model.fit(X_train,\n",
    "                  [yS_train, yD_train],\n",
    "                  validation_data=(X_val,[yS_val, yD_val]), \n",
    "                    epochs=20, verbose=1)"
   ]
  },
  {
   "cell_type": "code",
   "execution_count": 20,
   "id": "be370b22",
   "metadata": {},
   "outputs": [
    {
     "name": "stdout",
     "output_type": "stream",
     "text": [
      "10/10 [==============================] - 0s 2ms/step\n",
      "              precision    recall  f1-score   support\n",
      "\n",
      "           0      1.000     1.000     1.000       104\n",
      "           1      0.960     1.000     0.980        96\n",
      "           2      1.000     0.960     0.980       100\n",
      "\n",
      "    accuracy                          0.987       300\n",
      "   macro avg      0.987     0.987     0.986       300\n",
      "weighted avg      0.987     0.987     0.987       300\n",
      "\n"
     ]
    }
   ],
   "source": [
    "y_pred = model.predict(X_test)\n",
    "\n",
    "yS_pred = np.argmax(y_pred[0], axis = 1)\n",
    "y_test_ = np.argmax(yS_test, axis = 1)\n",
    "print(classification_report(y_test_, yS_pred, digits = 3))"
   ]
  },
  {
   "cell_type": "code",
   "execution_count": 21,
   "id": "6671cd1f",
   "metadata": {},
   "outputs": [
    {
     "name": "stdout",
     "output_type": "stream",
     "text": [
      "Confusion matrix:\n"
     ]
    },
    {
     "data": {
      "text/plain": [
       "Text(0.5, 1.0, 'Speakers')"
      ]
     },
     "execution_count": 21,
     "metadata": {},
     "output_type": "execute_result"
    },
    {
     "data": {
      "image/png": "[encoded data removed]",
      "text/plain": [
       "<Figure size 640x480 with 1 Axes>"
      ]
     },
     "metadata": {},
     "output_type": "display_data"
    }
   ],
   "source": [
    "# Confusion matrix\n",
    "print('Confusion matrix:')\n",
    "cm = confusion_matrix(y_test_, yS_pred)\n",
    "plt.imshow(cm, cmap=plt.cm.Reds);\n",
    "plt.xlabel('Ground truth');\n",
    "plt.ylabel('Prediction');\n",
    "plt.title(\"Speakers\")"
   ]
  },
  {
   "cell_type": "code",
   "execution_count": 22,
   "id": "e4d20d19",
   "metadata": {},
   "outputs": [
    {
     "name": "stdout",
     "output_type": "stream",
     "text": [
      "              precision    recall  f1-score   support\n",
      "\n",
      "           0      1.000     0.964     0.982        28\n",
      "           1      0.844     0.964     0.900        28\n",
      "           2      0.846     0.971     0.904        34\n",
      "           3      0.897     0.839     0.867        31\n",
      "           4      0.960     0.960     0.960        25\n",
      "           5      1.000     1.000     1.000        24\n",
      "           6      0.897     0.929     0.912        28\n",
      "           7      1.000     0.895     0.944        38\n",
      "           8      0.973     0.947     0.960        38\n",
      "           9      1.000     0.923     0.960        26\n",
      "\n",
      "    accuracy                          0.937       300\n",
      "   macro avg      0.942     0.939     0.939       300\n",
      "weighted avg      0.941     0.937     0.937       300\n",
      "\n"
     ]
    }
   ],
   "source": [
    "yD_pred = np.argmax(y_pred[1], axis = 1)\n",
    "print(classification_report(yD_test, yD_pred, digits = 3))"
   ]
  },
  {
   "cell_type": "code",
   "execution_count": 23,
   "id": "bb24332e",
   "metadata": {},
   "outputs": [
    {
     "name": "stdout",
     "output_type": "stream",
     "text": [
      "Confusion matrix:\n"
     ]
    },
    {
     "data": {
      "text/plain": [
       "Text(0.5, 1.0, 'Digits')"
      ]
     },
     "execution_count": 23,
     "metadata": {},
     "output_type": "execute_result"
    },
    {
     "data": {
      "image/png": "[encoded data removed]",
      "text/plain": [
       "<Figure size 640x480 with 1 Axes>"
      ]
     },
     "metadata": {},
     "output_type": "display_data"
    }
   ],
   "source": [
    "# Confusion matrix\n",
    "print('Confusion matrix:')\n",
    "cm = confusion_matrix(yD_test, yD_pred)\n",
    "plt.imshow(cm, cmap=plt.cm.Reds);\n",
    "plt.xlabel('Ground truth');\n",
    "plt.ylabel('Prediction');\n",
    "plt.title(\"Digits\")"
   ]
  },
  {
   "cell_type": "code",
   "execution_count": 24,
   "id": "361c72cf",
   "metadata": {},
   "outputs": [],
   "source": [
    "model_path = os.getcwd() + \"\\\\models\\\\CNN.h5\"\n",
    "\n",
    "model.save(model_path)"
   ]
  }
 ],
 "metadata": {
  "kernelspec": {
   "display_name": "Python 3 (ipykernel)",
   "language": "python",
   "name": "python3"
  },
  "language_info": {
   "codemirror_mode": {
    "name": "ipython",
    "version": 3
   },
   "file_extension": ".py",
   "mimetype": "text/x-python",
   "name": "python",
   "nbconvert_exporter": "python",
   "pygments_lexer": "ipython3",
   "version": "3.10.9"
  }
 },
 "nbformat": 4,
 "nbformat_minor": 5
}
