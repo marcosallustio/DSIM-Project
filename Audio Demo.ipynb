{
 "cells": [
  {
   "cell_type": "code",
   "execution_count": 1,
   "id": "8bab5fe9",
   "metadata": {},
   "outputs": [],
   "source": [
    "import ipywidgets as widgets\n",
    "from IPython.display import display\n",
    "import sounddevice as sd\n",
    "import numpy as np\n",
    "import librosa\n",
    "from tensorflow.keras.models import load_model\n",
    "from scipy.io import wavfile as wav\n",
    "import IPython.display as ipd\n",
    "import os"
   ]
  },
  {
   "cell_type": "code",
   "execution_count": 2,
   "id": "cbc08865",
   "metadata": {},
   "outputs": [],
   "source": [
    "def trim_silence(input_file, output_file, threshold=40):\n",
    "    # Load the audio file\n",
    "    audio_data, sample_rate = librosa.load(input_file)\n",
    "\n",
    "    # Extract the non-silent portion\n",
    "    trimmed_audio_data, _ = librosa.effects.trim(audio_data, top_db=threshold)\n",
    "\n",
    "    # Save the trimmed audio to a new file\n",
    "    wav.write(output_file, sample_rate,trimmed_audio_data)"
   ]
  },
  {
   "cell_type": "code",
   "execution_count": 3,
   "id": "73e26dee",
   "metadata": {},
   "outputs": [],
   "source": [
    "from librosa.feature import melspectrogram, mfcc\n",
    "def full_mfcc(input, rate = 8000, frames=50):\n",
    "    mfc = mfcc(y = input*1.0, sr = rate)\n",
    "    \n",
    "    # if less than frames, add additional necessary zeroes   \n",
    "    if mfc.shape[1] < frames:\n",
    "            pad_width = frames - mfc.shape[1]\n",
    "            mfc = np.pad(mfc, pad_width=((0, 0), (0, pad_width)))\n",
    "\n",
    "    # If more than frames, trim \n",
    "    elif mfc.shape[1] > frames:\n",
    "            mfc = mfc[:, :frames]\n",
    "    \n",
    "    \n",
    "    output = np.transpose(mfc)\n",
    "    return output"
   ]
  },
  {
   "cell_type": "code",
   "execution_count": 4,
   "id": "e861b8ab",
   "metadata": {},
   "outputs": [],
   "source": [
    "mean = np.load('mfcc_mean.npy')\n",
    "std = np.load('mfcc_std.npy')\n",
    "\n",
    "def standardize(input):\n",
    "    eps = 0.001 \n",
    "    output = (input - mean + eps)/(std + eps) \n",
    "    return output"
   ]
  },
  {
   "cell_type": "code",
   "execution_count": 5,
   "id": "87972236",
   "metadata": {
    "scrolled": true
   },
   "outputs": [
    {
     "data": {
      "application/vnd.jupyter.widget-view+json": {
       "model_id": "bcb5a85a4ab4445f9dba9dd1b382cb13",
       "version_major": 2,
       "version_minor": 0
      },
      "text/plain": [
       "Button(description='Record Audio', style=ButtonStyle())"
      ]
     },
     "metadata": {},
     "output_type": "display_data"
    }
   ],
   "source": [
    "class AudioRecorderApp:\n",
    "    def __init__(self, model_path):\n",
    "        self.record_button = widgets.Button(description=\"Record Audio\")\n",
    "        self.record_button.on_click(self.record_and_predict)\n",
    "\n",
    "        # Modello pre-addestrato (assicurati di specificare il percorso corretto)\n",
    "        self.model = load_model(model_path)\n",
    "        \n",
    "        display(self.record_button)\n",
    "\n",
    "    def record_and_predict(self, button):\n",
    "        # Disabilita il pulsante durante la registrazione\n",
    "        self.record_button.disabled = True\n",
    "\n",
    "        # Registra e trimma l'audio\n",
    "        self.record_and_trim_audio()\n",
    "        \n",
    "        sr , trimmed_audio = wav.read(\"test.wav\")\n",
    "        ipd.display(ipd.Audio(data=trimmed_audio, rate=sr))\n",
    "\n",
    "        # Calcola le caratteristiche MFCC utilizzando la tua funzione full_mfcc\n",
    "        mfcc_features = standardize(full_mfcc(trimmed_audio))\n",
    "        \n",
    "        # Adatta la forma dei dati per essere compatibile con il modello\n",
    "        input_data = np.expand_dims(mfcc_features, axis=0)\n",
    "\n",
    "        # Fai la predizione utilizzando il modello\n",
    "        predictions = self.model.predict(input_data)\n",
    "\n",
    "        \n",
    "        speaker = np.argmax(predictions[0], axis = 1)\n",
    "        if speaker == 0:\n",
    "            speaker == \"Unknown\"\n",
    "        elif speaker == 1:\n",
    "            speaker = \"Salvatore\"\n",
    "        elif speaker == 2:\n",
    "            speaker = \"Marco\"\n",
    "        digit = np.argmax(predictions[1], axis = 1)\n",
    "        \n",
    "        print(f\"Lo speaker è {speaker} e ha pronunciato il numero {digit}\")\n",
    "        \n",
    "\n",
    "       # Abilita nuovamente il pulsante dopo la registrazione\n",
    "        self.record_button.disabled = False\n",
    "\n",
    "    def record_and_trim_audio(self, sample_rate=8000, duration=3):\n",
    "        print(\"Recording.....\\n\")\n",
    "        audio_data = sd.rec(int(sample_rate * duration), samplerate=sample_rate, channels=1, dtype='int16')\n",
    "        sd.wait()\n",
    "        \n",
    "        #Save the audio and the trimmed version as WAV file\n",
    "        \n",
    "        filename = f\"test_raw.wav\"\n",
    "        trimmed = f\"test.wav\"\n",
    "        \n",
    "        wav.write(filename, sample_rate, audio_data)\n",
    "        trim_silence(filename, trimmed)\n",
    "        \n",
    "\n",
    "    def run(self):\n",
    "        self.root.mainloop()\n",
    "        \n",
    "\n",
    "if __name__ == \"__main__\":\n",
    "    app = AudioRecorderApp(model_path=os.getcwd() + \"\\\\models\\\\RNN3.h5\")"
   ]
  },
  {
   "cell_type": "code",
   "execution_count": null,
   "id": "a2572185",
   "metadata": {},
   "outputs": [],
   "source": []
  }
 ],
 "metadata": {
  "kernelspec": {
   "display_name": "Python 3 (ipykernel)",
   "language": "python",
   "name": "python3"
  },
  "language_info": {
   "codemirror_mode": {
    "name": "ipython",
    "version": 3
   },
   "file_extension": ".py",
   "mimetype": "text/x-python",
   "name": "python",
   "nbconvert_exporter": "python",
   "pygments_lexer": "ipython3",
   "version": "3.10.9"
  }
 },
 "nbformat": 4,
 "nbformat_minor": 5
}
