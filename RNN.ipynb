{
 "cells": [
  {
   "cell_type": "markdown",
   "id": "0aa6d618",
   "metadata": {},
   "source": [
    "**Importing libraries**"
   ]
  },
  {
   "cell_type": "code",
   "execution_count": 1,
   "id": "875197fd",
   "metadata": {},
   "outputs": [],
   "source": [
    "import random\n",
    "import os\n",
    "import numpy as np\n",
    "from scipy.io import wavfile as wav\n",
    "from scipy.signal import spectrogram\n",
    "from librosa.feature import mfcc\n",
    "\n",
    "import matplotlib.pyplot as plt\n",
    "\n",
    "from sklearn.metrics import accuracy_score, confusion_matrix, classification_report\n",
    "from sklearn.model_selection import train_test_split\n",
    "from tensorflow.keras.utils import to_categorical\n",
    "\n",
    "from sklearn.preprocessing import LabelEncoder \n",
    "\n",
    "import tensorflow as tf\n",
    "from tensorflow.keras.models import Sequential\n",
    "from tensorflow.keras.layers import Dense, Dropout, Flatten\n",
    "from tensorflow.keras.layers import Input, Conv2D, MaxPooling2D, Flatten, Dense,Bidirectional,LSTM\n",
    "from tensorflow.keras.models import Model"
   ]
  },
  {
   "cell_type": "markdown",
   "id": "b5a7c4a5",
   "metadata": {},
   "source": [
    "**Define Data Loader**"
   ]
  },
  {
   "cell_type": "code",
   "execution_count": 2,
   "id": "af052075",
   "metadata": {},
   "outputs": [],
   "source": [
    "# Data loader\n",
    "def load_data(feature_extractor, normalize=False):\n",
    "\n",
    "    speaker_labels = []\n",
    "    num_labels = []\n",
    "    features = []\n",
    "    labels_data = []\n",
    "\n",
    "    for f in sorted(os.listdir('./recordings')):\n",
    "        if f.endswith('.wav'):\n",
    "            # Load file and compute the requested features\n",
    "            sr, signal = wav.read('./recordings/' + f)\n",
    "            cur_features = feature_extractor(signal)\n",
    "            features.append(cur_features)\n",
    "\n",
    "            # Classes\n",
    "            speaker = str(f.split('_')[1])\n",
    "            if speaker == \"jackson\":\n",
    "                speaker = 1\n",
    "            elif speaker == \"nicolas\":\n",
    "                speaker = 1\n",
    "            elif speaker == \"theo\":\n",
    "                speaker = 1\n",
    "            elif speaker == \"Salvatore\":\n",
    "                speaker = 2\n",
    "            elif speaker == \"Marco\":\n",
    "                speaker = 3\n",
    "\n",
    "            speaker_labels.append(speaker)\n",
    "            \n",
    "            num = int(f.split('_')[0])\n",
    "            num_labels.append(num)\n",
    "\n",
    "            labels_data.append((speaker, num))\n",
    "\n",
    "    # Convert lists in numpy array\n",
    "    features = np.array(features)\n",
    "    labels_data = np.array(labels_data)\n",
    "            \n",
    "    \n",
    "    # Split the data into training and testing sets\n",
    "    X_train, X_test, y_train, y_test = train_test_split(\n",
    "        features, labels_data , test_size=0.2, random_state=42)\n",
    "\n",
    "    \n",
    "\n",
    "    if normalize:\n",
    "        eps = 0.001\n",
    "        X_train = np.array(X_train)\n",
    "        X_train_mean = X_train.mean(axis=0)\n",
    "        X_train_std = X_train.std(axis=0)\n",
    "        X_train = (X_train - X_train_mean + eps)/(X_train_std + eps)\n",
    "        X_train = [row for row in X_train]\n",
    "\n",
    "        X_test = [row for row in (np.array(X_test) - X_train_mean + eps)/(X_train_std + eps)]\n",
    "\n",
    "    return np.array(X_train), np.array(X_test), np.array(y_train), np.array(y_test), X_train_mean, X_train_std"
   ]
  },
  {
   "cell_type": "markdown",
   "id": "7ba2aeca",
   "metadata": {},
   "source": [
    "# Features"
   ]
  },
  {
   "cell_type": "markdown",
   "id": "b8d0252d",
   "metadata": {},
   "source": [
    "**Frequency features**"
   ]
  },
  {
   "cell_type": "code",
   "execution_count": 3,
   "id": "44a6d3cd",
   "metadata": {},
   "outputs": [],
   "source": [
    "def full_mfcc(input, rate = 8000, tsize=50):\n",
    "    mfc = mfcc(y = input*1.0, sr = rate)\n",
    "    \n",
    "    # if less than tsize, add additional necessary zeroes   \n",
    "    if mfc.shape[1] < tsize:\n",
    "            pad_width = tsize - mfc.shape[1]\n",
    "            mfc = np.pad(mfc, pad_width=((0, 0), (0, pad_width)))\n",
    "\n",
    "    # If more than tsize, trim \n",
    "    elif mfc.shape[1] > tsize:\n",
    "            mfc = mfc[:, :tsize]\n",
    "    \n",
    "    \n",
    "    output = np.transpose(mfc)\n",
    "    return output"
   ]
  },
  {
   "cell_type": "markdown",
   "id": "5cf1759d",
   "metadata": {},
   "source": [
    "# Loading Data"
   ]
  },
  {
   "cell_type": "code",
   "execution_count": 4,
   "id": "95011371",
   "metadata": {
    "scrolled": true
   },
   "outputs": [],
   "source": [
    "import warnings\n",
    "# Ignore all warnings\n",
    "warnings.filterwarnings(\"ignore\")"
   ]
  },
  {
   "cell_type": "code",
   "execution_count": 5,
   "id": "f0b988b3",
   "metadata": {
    "scrolled": true
   },
   "outputs": [],
   "source": [
    "# Data loading\n",
    "X_train, X_test, y_train, y_test, mean, std = load_data(feature_extractor = full_mfcc, normalize=True)"
   ]
  },
  {
   "cell_type": "code",
   "execution_count": 6,
   "id": "b815b4fe",
   "metadata": {},
   "outputs": [],
   "source": [
    "# Reset warnings filter to default behavior\n",
    "warnings.filterwarnings(\"default\")"
   ]
  },
  {
   "cell_type": "code",
   "execution_count": 7,
   "id": "5eaf5e26",
   "metadata": {},
   "outputs": [],
   "source": [
    "# Save features\n",
    "np.save('mfcc_X_train.npy', X_train)\n",
    "np.save('mfcc_y_train.npy', y_train)\n",
    "np.save('mfcc_X_test.npy', X_test)\n",
    "np.save('mfcc_y_test.npy', y_test)\n",
    "np.save('mfcc_mean.npy', mean)\n",
    "np.save('mfcc_std.npy', std)"
   ]
  },
  {
   "cell_type": "code",
   "execution_count": 8,
   "id": "f0d682ba",
   "metadata": {},
   "outputs": [],
   "source": [
    "# Load extracted features\n",
    "X_train = np.load('mfcc_X_train.npy')\n",
    "y_train = np.load('mfcc_y_train.npy')\n",
    "X_test = np.load('mfcc_X_test.npy')\n",
    "y_test = np.load('mfcc_y_test.npy')"
   ]
  },
  {
   "cell_type": "code",
   "execution_count": 9,
   "id": "2c987028",
   "metadata": {},
   "outputs": [
    {
     "data": {
      "text/plain": [
       "(1200, 50, 20)"
      ]
     },
     "execution_count": 9,
     "metadata": {},
     "output_type": "execute_result"
    }
   ],
   "source": [
    "X_train.shape"
   ]
  },
  {
   "cell_type": "code",
   "execution_count": 10,
   "id": "6a8e6483",
   "metadata": {},
   "outputs": [
    {
     "data": {
      "text/plain": [
       "array([[2, 7],\n",
       "       [3, 9],\n",
       "       [1, 2],\n",
       "       [1, 2],\n",
       "       [3, 3],\n",
       "       [1, 5],\n",
       "       [3, 7],\n",
       "       [1, 4],\n",
       "       [2, 8],\n",
       "       [1, 1],\n",
       "       [1, 5],\n",
       "       [2, 9],\n",
       "       [1, 4],\n",
       "       [3, 9],\n",
       "       [2, 0],\n",
       "       [2, 8],\n",
       "       [1, 9],\n",
       "       [3, 4],\n",
       "       [1, 2],\n",
       "       [2, 0],\n",
       "       [1, 7],\n",
       "       [2, 7],\n",
       "       [1, 7],\n",
       "       [3, 8],\n",
       "       [2, 9],\n",
       "       [1, 2],\n",
       "       [1, 9],\n",
       "       [1, 9],\n",
       "       [3, 8],\n",
       "       [2, 8],\n",
       "       [3, 7],\n",
       "       [3, 4],\n",
       "       [2, 8],\n",
       "       [1, 6],\n",
       "       [2, 1],\n",
       "       [3, 2],\n",
       "       [1, 2],\n",
       "       [1, 2],\n",
       "       [2, 7],\n",
       "       [2, 0],\n",
       "       [3, 9],\n",
       "       [1, 2],\n",
       "       [1, 8],\n",
       "       [1, 5],\n",
       "       [3, 7],\n",
       "       [2, 2],\n",
       "       [2, 2],\n",
       "       [3, 2],\n",
       "       [1, 4],\n",
       "       [2, 6],\n",
       "       [3, 4],\n",
       "       [2, 3],\n",
       "       [2, 7],\n",
       "       [2, 8],\n",
       "       [1, 3],\n",
       "       [2, 4],\n",
       "       [3, 0],\n",
       "       [3, 3],\n",
       "       [3, 2],\n",
       "       [3, 6],\n",
       "       [3, 4],\n",
       "       [1, 3],\n",
       "       [3, 3],\n",
       "       [2, 0],\n",
       "       [2, 5],\n",
       "       [3, 3],\n",
       "       [3, 2],\n",
       "       [3, 7],\n",
       "       [3, 8],\n",
       "       [3, 1],\n",
       "       [3, 2],\n",
       "       [1, 5],\n",
       "       [3, 5],\n",
       "       [1, 1],\n",
       "       [1, 4],\n",
       "       [1, 8],\n",
       "       [2, 4],\n",
       "       [2, 3],\n",
       "       [3, 3],\n",
       "       [3, 6],\n",
       "       [1, 6],\n",
       "       [3, 0],\n",
       "       [2, 1],\n",
       "       [3, 5],\n",
       "       [2, 5],\n",
       "       [2, 0],\n",
       "       [3, 4],\n",
       "       [3, 6],\n",
       "       [3, 5],\n",
       "       [3, 6],\n",
       "       [2, 7],\n",
       "       [2, 1],\n",
       "       [1, 1],\n",
       "       [2, 9],\n",
       "       [3, 7],\n",
       "       [3, 3],\n",
       "       [1, 2],\n",
       "       [1, 0],\n",
       "       [1, 7],\n",
       "       [2, 2],\n",
       "       [2, 6],\n",
       "       [1, 4],\n",
       "       [2, 7],\n",
       "       [3, 7],\n",
       "       [3, 3],\n",
       "       [3, 0],\n",
       "       [2, 0],\n",
       "       [1, 7],\n",
       "       [3, 0],\n",
       "       [1, 5],\n",
       "       [3, 3],\n",
       "       [1, 8],\n",
       "       [1, 4],\n",
       "       [2, 1],\n",
       "       [1, 0],\n",
       "       [1, 2],\n",
       "       [2, 5],\n",
       "       [3, 1],\n",
       "       [1, 0],\n",
       "       [3, 7],\n",
       "       [2, 6],\n",
       "       [3, 9],\n",
       "       [2, 9],\n",
       "       [1, 2],\n",
       "       [1, 0],\n",
       "       [3, 8],\n",
       "       [2, 8],\n",
       "       [3, 5],\n",
       "       [3, 8],\n",
       "       [3, 3],\n",
       "       [3, 8],\n",
       "       [2, 0],\n",
       "       [1, 6],\n",
       "       [1, 9],\n",
       "       [1, 3],\n",
       "       [3, 0],\n",
       "       [3, 3],\n",
       "       [2, 2],\n",
       "       [2, 6],\n",
       "       [1, 1],\n",
       "       [1, 7],\n",
       "       [1, 1],\n",
       "       [1, 9],\n",
       "       [2, 1],\n",
       "       [1, 3],\n",
       "       [1, 8],\n",
       "       [2, 4],\n",
       "       [1, 6],\n",
       "       [3, 2],\n",
       "       [3, 5],\n",
       "       [3, 9],\n",
       "       [3, 8],\n",
       "       [2, 6],\n",
       "       [1, 9],\n",
       "       [2, 3],\n",
       "       [2, 9],\n",
       "       [1, 7],\n",
       "       [3, 1],\n",
       "       [2, 2],\n",
       "       [3, 0],\n",
       "       [1, 2],\n",
       "       [3, 2],\n",
       "       [1, 6],\n",
       "       [2, 9],\n",
       "       [1, 0],\n",
       "       [1, 0],\n",
       "       [1, 9],\n",
       "       [3, 7],\n",
       "       [2, 6],\n",
       "       [2, 2],\n",
       "       [2, 1],\n",
       "       [3, 7],\n",
       "       [2, 3],\n",
       "       [1, 4],\n",
       "       [1, 0],\n",
       "       [2, 1],\n",
       "       [2, 7],\n",
       "       [2, 4],\n",
       "       [3, 3],\n",
       "       [1, 8],\n",
       "       [1, 1],\n",
       "       [1, 3],\n",
       "       [2, 1],\n",
       "       [3, 0],\n",
       "       [1, 8],\n",
       "       [2, 5],\n",
       "       [2, 6],\n",
       "       [2, 2],\n",
       "       [3, 7],\n",
       "       [1, 8],\n",
       "       [1, 3],\n",
       "       [1, 5],\n",
       "       [1, 8],\n",
       "       [1, 8],\n",
       "       [3, 6],\n",
       "       [3, 1],\n",
       "       [3, 6],\n",
       "       [1, 1],\n",
       "       [3, 5],\n",
       "       [1, 2],\n",
       "       [2, 6],\n",
       "       [3, 4],\n",
       "       [1, 2],\n",
       "       [3, 3],\n",
       "       [1, 7],\n",
       "       [3, 6],\n",
       "       [3, 1],\n",
       "       [2, 4],\n",
       "       [2, 2],\n",
       "       [1, 5],\n",
       "       [2, 0],\n",
       "       [1, 7],\n",
       "       [3, 5],\n",
       "       [2, 9],\n",
       "       [1, 1],\n",
       "       [3, 2],\n",
       "       [3, 8],\n",
       "       [3, 3],\n",
       "       [1, 8],\n",
       "       [3, 1],\n",
       "       [3, 8],\n",
       "       [3, 6],\n",
       "       [1, 4],\n",
       "       [1, 3],\n",
       "       [2, 1],\n",
       "       [3, 3],\n",
       "       [3, 0],\n",
       "       [2, 0],\n",
       "       [3, 8],\n",
       "       [3, 9],\n",
       "       [3, 7],\n",
       "       [1, 2],\n",
       "       [1, 4],\n",
       "       [2, 7],\n",
       "       [1, 6],\n",
       "       [3, 7],\n",
       "       [1, 8],\n",
       "       [3, 8],\n",
       "       [3, 8],\n",
       "       [2, 9],\n",
       "       [3, 4],\n",
       "       [3, 7],\n",
       "       [2, 5],\n",
       "       [2, 0],\n",
       "       [2, 3],\n",
       "       [2, 3],\n",
       "       [1, 8],\n",
       "       [1, 7],\n",
       "       [1, 7],\n",
       "       [3, 4],\n",
       "       [1, 6],\n",
       "       [1, 1],\n",
       "       [1, 8],\n",
       "       [3, 4],\n",
       "       [1, 6],\n",
       "       [2, 6],\n",
       "       [2, 2],\n",
       "       [1, 3],\n",
       "       [2, 6],\n",
       "       [1, 7],\n",
       "       [2, 7],\n",
       "       [2, 1],\n",
       "       [1, 3],\n",
       "       [2, 6],\n",
       "       [2, 9],\n",
       "       [1, 7],\n",
       "       [1, 3],\n",
       "       [2, 1],\n",
       "       [3, 7],\n",
       "       [1, 5],\n",
       "       [2, 2],\n",
       "       [2, 0],\n",
       "       [3, 2],\n",
       "       [2, 9],\n",
       "       [2, 5],\n",
       "       [2, 8],\n",
       "       [2, 9],\n",
       "       [3, 8],\n",
       "       [2, 2],\n",
       "       [3, 9],\n",
       "       [1, 7],\n",
       "       [1, 8],\n",
       "       [3, 8],\n",
       "       [1, 4],\n",
       "       [2, 1],\n",
       "       [3, 4],\n",
       "       [3, 1],\n",
       "       [2, 8],\n",
       "       [2, 0],\n",
       "       [2, 9],\n",
       "       [1, 3],\n",
       "       [1, 7],\n",
       "       [1, 0],\n",
       "       [2, 8],\n",
       "       [3, 5],\n",
       "       [2, 6],\n",
       "       [3, 5],\n",
       "       [2, 8],\n",
       "       [1, 7],\n",
       "       [2, 5]])"
      ]
     },
     "execution_count": 10,
     "metadata": {},
     "output_type": "execute_result"
    }
   ],
   "source": [
    "y_test"
   ]
  },
  {
   "cell_type": "code",
   "execution_count": 11,
   "id": "4c5a6b35",
   "metadata": {},
   "outputs": [],
   "source": [
    "# Data loading\n",
    "X_train, X_val, y_train, y_val = train_test_split(X_train, y_train, test_size=0.2, random_state=42)"
   ]
  },
  {
   "cell_type": "code",
   "execution_count": 12,
   "id": "cde297a7",
   "metadata": {},
   "outputs": [],
   "source": [
    "num_speakers=3\n",
    "num_classes=10"
   ]
  },
  {
   "cell_type": "code",
   "execution_count": 23,
   "id": "544bc7f5",
   "metadata": {
    "scrolled": true
   },
   "outputs": [],
   "source": [
    "def RNN_model(num_speakers, num_classes):\n",
    "    inputs = Input(( np.shape(X_train)[1], np.shape(X_train)[2]))\n",
    "\n",
    "    # Bidirectional LSTM layers\n",
    "    lstm_1 = Bidirectional(LSTM(128, return_sequences=True))(inputs)\n",
    "    lstm_2 = Bidirectional(LSTM(64))(lstm_1)\n",
    "\n",
    "    # Fully connected layers for speaker classification\n",
    "    dense_speaker = Dense(64, activation='relu')(lstm_2)\n",
    "    output_speaker = Dense(num_speakers, activation='softmax', name='speaker')(dense_speaker)\n",
    "\n",
    "\n",
    "    # Fully connected layers for digit recognition\n",
    "    dense_digit = Dense(128, activation='relu')(lstm_2)\n",
    "    output_digit = Dense(num_classes, activation='softmax', name='digit')(dense_digit)\n",
    "\n",
    "\n",
    "    # Model\n",
    "    combined_model = Model(inputs=[inputs], outputs=[output_speaker, output_digit])\n",
    "    return combined_model"
   ]
  },
  {
   "cell_type": "code",
   "execution_count": 24,
   "id": "41c3b886",
   "metadata": {},
   "outputs": [],
   "source": [
    "model = RNN_model(num_speakers, num_classes)\n",
    "model.compile(optimizer='adam',\n",
    "              loss={'speaker': 'categorical_crossentropy','digit': 'sparse_categorical_crossentropy'},\n",
    "              metrics={'speaker': 'categorical_accuracy', 'digit': 'accuracy'})"
   ]
  },
  {
   "cell_type": "code",
   "execution_count": 25,
   "id": "30e1dba1",
   "metadata": {},
   "outputs": [
    {
     "data": {
      "image/png": "[encoded data removed]",
      "text/plain": [
       "<IPython.core.display.Image object>"
      ]
     },
     "execution_count": 25,
     "metadata": {},
     "output_type": "execute_result"
    }
   ],
   "source": [
    "from tensorflow.keras.utils import plot_model\n",
    "plot_model(model, to_file='RNN.png',show_shapes=True, show_dtype=True, show_layer_activations=True)"
   ]
  },
  {
   "cell_type": "code",
   "execution_count": 26,
   "id": "5a5e20e4",
   "metadata": {},
   "outputs": [],
   "source": [
    "le = LabelEncoder()\n",
    "yS_train = to_categorical(le.fit_transform(y_train[:, 0]))\n",
    "yS_val = to_categorical(le.fit_transform(y_val[:, 0]))\n",
    "yS_test = to_categorical(le.fit_transform(y_test[:, 0]))\n",
    "\n",
    "yD_train = y_train[:, 1]\n",
    "yD_val = y_val[:, 1]\n",
    "yD_test = y_test[:, 1]"
   ]
  },
  {
   "cell_type": "code",
   "execution_count": 27,
   "id": "bfdf770b",
   "metadata": {
    "scrolled": true
   },
   "outputs": [
    {
     "name": "stdout",
     "output_type": "stream",
     "text": [
      "Epoch 1/20\n",
      "30/30 [==============================] - 8s 111ms/step - loss: 2.4682 - speaker_loss: 0.4158 - digit_loss: 2.0523 - speaker_categorical_accuracy: 0.8448 - digit_accuracy: 0.3479 - val_loss: 1.7865 - val_speaker_loss: 0.1572 - val_digit_loss: 1.6292 - val_speaker_categorical_accuracy: 0.9500 - val_digit_accuracy: 0.5458\n",
      "Epoch 2/20\n",
      "30/30 [==============================] - 2s 61ms/step - loss: 1.3379 - speaker_loss: 0.1015 - digit_loss: 1.2364 - speaker_categorical_accuracy: 0.9740 - digit_accuracy: 0.6313 - val_loss: 1.0750 - val_speaker_loss: 0.1064 - val_digit_loss: 0.9687 - val_speaker_categorical_accuracy: 0.9792 - val_digit_accuracy: 0.7042\n",
      "Epoch 3/20\n",
      "30/30 [==============================] - 2s 60ms/step - loss: 0.8430 - speaker_loss: 0.0542 - digit_loss: 0.7888 - speaker_categorical_accuracy: 0.9823 - digit_accuracy: 0.7437 - val_loss: 0.7914 - val_speaker_loss: 0.0738 - val_digit_loss: 0.7176 - val_speaker_categorical_accuracy: 0.9875 - val_digit_accuracy: 0.7208\n",
      "Epoch 4/20\n",
      "30/30 [==============================] - 2s 61ms/step - loss: 0.5733 - speaker_loss: 0.0158 - digit_loss: 0.5575 - speaker_categorical_accuracy: 0.9990 - digit_accuracy: 0.8010 - val_loss: 0.5961 - val_speaker_loss: 0.0677 - val_digit_loss: 0.5285 - val_speaker_categorical_accuracy: 0.9875 - val_digit_accuracy: 0.8042\n",
      "Epoch 5/20\n",
      "30/30 [==============================] - 2s 60ms/step - loss: 0.3732 - speaker_loss: 0.0090 - digit_loss: 0.3642 - speaker_categorical_accuracy: 0.9990 - digit_accuracy: 0.8708 - val_loss: 0.4214 - val_speaker_loss: 0.0601 - val_digit_loss: 0.3613 - val_speaker_categorical_accuracy: 0.9917 - val_digit_accuracy: 0.8792\n",
      "Epoch 6/20\n",
      "30/30 [==============================] - 2s 59ms/step - loss: 0.2688 - speaker_loss: 0.0039 - digit_loss: 0.2649 - speaker_categorical_accuracy: 1.0000 - digit_accuracy: 0.8948 - val_loss: 0.3733 - val_speaker_loss: 0.0630 - val_digit_loss: 0.3102 - val_speaker_categorical_accuracy: 0.9958 - val_digit_accuracy: 0.9042\n",
      "Epoch 7/20\n",
      "30/30 [==============================] - 2s 62ms/step - loss: 0.1768 - speaker_loss: 0.0030 - digit_loss: 0.1738 - speaker_categorical_accuracy: 1.0000 - digit_accuracy: 0.9427 - val_loss: 0.2982 - val_speaker_loss: 0.0703 - val_digit_loss: 0.2278 - val_speaker_categorical_accuracy: 0.9917 - val_digit_accuracy: 0.9542\n",
      "Epoch 8/20\n",
      "30/30 [==============================] - 2s 66ms/step - loss: 0.0936 - speaker_loss: 0.0020 - digit_loss: 0.0916 - speaker_categorical_accuracy: 1.0000 - digit_accuracy: 0.9760 - val_loss: 0.2946 - val_speaker_loss: 0.0685 - val_digit_loss: 0.2260 - val_speaker_categorical_accuracy: 0.9958 - val_digit_accuracy: 0.9417\n",
      "Epoch 9/20\n",
      "30/30 [==============================] - 2s 63ms/step - loss: 0.0622 - speaker_loss: 0.0017 - digit_loss: 0.0605 - speaker_categorical_accuracy: 1.0000 - digit_accuracy: 0.9875 - val_loss: 0.2897 - val_speaker_loss: 0.0769 - val_digit_loss: 0.2128 - val_speaker_categorical_accuracy: 0.9875 - val_digit_accuracy: 0.9458\n",
      "Epoch 10/20\n",
      "30/30 [==============================] - 2s 60ms/step - loss: 0.0612 - speaker_loss: 9.5097e-04 - digit_loss: 0.0603 - speaker_categorical_accuracy: 1.0000 - digit_accuracy: 0.9812 - val_loss: 0.2702 - val_speaker_loss: 0.0808 - val_digit_loss: 0.1894 - val_speaker_categorical_accuracy: 0.9875 - val_digit_accuracy: 0.9542\n",
      "Epoch 11/20\n",
      "30/30 [==============================] - 2s 60ms/step - loss: 0.0551 - speaker_loss: 8.1211e-04 - digit_loss: 0.0543 - speaker_categorical_accuracy: 1.0000 - digit_accuracy: 0.9844 - val_loss: 0.3200 - val_speaker_loss: 0.0731 - val_digit_loss: 0.2469 - val_speaker_categorical_accuracy: 0.9958 - val_digit_accuracy: 0.9417\n",
      "Epoch 12/20\n",
      "30/30 [==============================] - 2s 61ms/step - loss: 0.0400 - speaker_loss: 6.5617e-04 - digit_loss: 0.0394 - speaker_categorical_accuracy: 1.0000 - digit_accuracy: 0.9885 - val_loss: 0.2807 - val_speaker_loss: 0.0698 - val_digit_loss: 0.2109 - val_speaker_categorical_accuracy: 0.9958 - val_digit_accuracy: 0.9583\n",
      "Epoch 13/20\n",
      "30/30 [==============================] - 2s 66ms/step - loss: 0.0264 - speaker_loss: 0.0045 - digit_loss: 0.0219 - speaker_categorical_accuracy: 0.9990 - digit_accuracy: 0.9958 - val_loss: 0.2604 - val_speaker_loss: 0.0918 - val_digit_loss: 0.1686 - val_speaker_categorical_accuracy: 0.9917 - val_digit_accuracy: 0.9667\n",
      "Epoch 14/20\n",
      "30/30 [==============================] - 2s 70ms/step - loss: 0.0545 - speaker_loss: 0.0209 - digit_loss: 0.0336 - speaker_categorical_accuracy: 0.9948 - digit_accuracy: 0.9896 - val_loss: 0.2993 - val_speaker_loss: 0.0761 - val_digit_loss: 0.2232 - val_speaker_categorical_accuracy: 0.9792 - val_digit_accuracy: 0.9542\n",
      "Epoch 15/20\n",
      "30/30 [==============================] - 2s 67ms/step - loss: 0.0669 - speaker_loss: 0.0225 - digit_loss: 0.0444 - speaker_categorical_accuracy: 0.9917 - digit_accuracy: 0.9885 - val_loss: 0.3246 - val_speaker_loss: 0.0965 - val_digit_loss: 0.2281 - val_speaker_categorical_accuracy: 0.9833 - val_digit_accuracy: 0.9417\n",
      "Epoch 16/20\n",
      "30/30 [==============================] - 2s 67ms/step - loss: 0.0460 - speaker_loss: 0.0109 - digit_loss: 0.0351 - speaker_categorical_accuracy: 0.9979 - digit_accuracy: 0.9937 - val_loss: 0.3504 - val_speaker_loss: 0.0533 - val_digit_loss: 0.2971 - val_speaker_categorical_accuracy: 0.9917 - val_digit_accuracy: 0.9417\n",
      "Epoch 17/20\n",
      "30/30 [==============================] - 2s 69ms/step - loss: 0.0351 - speaker_loss: 0.0120 - digit_loss: 0.0232 - speaker_categorical_accuracy: 0.9948 - digit_accuracy: 0.9927 - val_loss: 0.2843 - val_speaker_loss: 0.0907 - val_digit_loss: 0.1936 - val_speaker_categorical_accuracy: 0.9833 - val_digit_accuracy: 0.9500\n",
      "Epoch 18/20\n",
      "30/30 [==============================] - 2s 68ms/step - loss: 0.0362 - speaker_loss: 0.0016 - digit_loss: 0.0346 - speaker_categorical_accuracy: 1.0000 - digit_accuracy: 0.9906 - val_loss: 0.2909 - val_speaker_loss: 0.0751 - val_digit_loss: 0.2158 - val_speaker_categorical_accuracy: 0.9917 - val_digit_accuracy: 0.9458\n",
      "Epoch 19/20\n",
      "30/30 [==============================] - 2s 69ms/step - loss: 0.0259 - speaker_loss: 5.4181e-04 - digit_loss: 0.0254 - speaker_categorical_accuracy: 1.0000 - digit_accuracy: 0.9948 - val_loss: 0.2587 - val_speaker_loss: 0.0630 - val_digit_loss: 0.1958 - val_speaker_categorical_accuracy: 0.9917 - val_digit_accuracy: 0.9667\n",
      "Epoch 20/20\n",
      "30/30 [==============================] - 2s 65ms/step - loss: 0.0232 - speaker_loss: 4.5202e-04 - digit_loss: 0.0228 - speaker_categorical_accuracy: 1.0000 - digit_accuracy: 0.9896 - val_loss: 0.2418 - val_speaker_loss: 0.0624 - val_digit_loss: 0.1794 - val_speaker_categorical_accuracy: 0.9917 - val_digit_accuracy: 0.9708\n"
     ]
    }
   ],
   "source": [
    "history = model.fit(X_train,\n",
    "                  [yS_train, yD_train],\n",
    "                  validation_data=(X_val,[yS_val, yD_val]), \n",
    "                    epochs=20, verbose=1)"
   ]
  },
  {
   "cell_type": "code",
   "execution_count": 28,
   "id": "be370b22",
   "metadata": {},
   "outputs": [
    {
     "name": "stdout",
     "output_type": "stream",
     "text": [
      "10/10 [==============================] - 1s 22ms/step\n",
      "              precision    recall  f1-score   support\n",
      "\n",
      "           0      1.000     1.000     1.000       104\n",
      "           1      0.969     0.990     0.979        96\n",
      "           2      0.990     0.970     0.980       100\n",
      "\n",
      "    accuracy                          0.987       300\n",
      "   macro avg      0.986     0.987     0.986       300\n",
      "weighted avg      0.987     0.987     0.987       300\n",
      "\n"
     ]
    }
   ],
   "source": [
    "y_pred = model.predict(X_test)\n",
    "\n",
    "yS_pred = np.argmax(y_pred[0], axis = 1)\n",
    "y_test_ = np.argmax(yS_test, axis = 1)\n",
    "print(classification_report(y_test_, yS_pred, digits = 3))"
   ]
  },
  {
   "cell_type": "code",
   "execution_count": 29,
   "id": "27e71cc7",
   "metadata": {},
   "outputs": [
    {
     "name": "stdout",
     "output_type": "stream",
     "text": [
      "Confusion matrix:\n"
     ]
    },
    {
     "data": {
      "text/plain": [
       "Text(0.5, 1.0, 'Speakers')"
      ]
     },
     "execution_count": 29,
     "metadata": {},
     "output_type": "execute_result"
    },
    {
     "data": {
      "image/png": "[encoded data removed]",
      "text/plain": [
       "<Figure size 640x480 with 1 Axes>"
      ]
     },
     "metadata": {},
     "output_type": "display_data"
    }
   ],
   "source": [
    "# Confusion matrix\n",
    "print('Confusion matrix:')\n",
    "cm = confusion_matrix(y_test_, yS_pred)\n",
    "plt.imshow(cm, cmap=plt.cm.Reds);\n",
    "plt.xlabel('Ground truth');\n",
    "plt.ylabel('Prediction');\n",
    "plt.title(\"Speakers\")"
   ]
  },
  {
   "cell_type": "code",
   "execution_count": 30,
   "id": "e4d20d19",
   "metadata": {},
   "outputs": [
    {
     "name": "stdout",
     "output_type": "stream",
     "text": [
      "              precision    recall  f1-score   support\n",
      "\n",
      "           0      1.000     1.000     1.000        28\n",
      "           1      1.000     0.964     0.982        28\n",
      "           2      0.944     1.000     0.971        34\n",
      "           3      1.000     0.903     0.949        31\n",
      "           4      1.000     0.960     0.980        25\n",
      "           5      1.000     1.000     1.000        24\n",
      "           6      0.964     0.964     0.964        28\n",
      "           7      1.000     1.000     1.000        38\n",
      "           8      0.950     1.000     0.974        38\n",
      "           9      0.963     1.000     0.981        26\n",
      "\n",
      "    accuracy                          0.980       300\n",
      "   macro avg      0.982     0.979     0.980       300\n",
      "weighted avg      0.981     0.980     0.980       300\n",
      "\n"
     ]
    }
   ],
   "source": [
    "yD_pred = np.argmax(y_pred[1], axis = 1)\n",
    "print(classification_report(yD_test, yD_pred, digits = 3))"
   ]
  },
  {
   "cell_type": "code",
   "execution_count": 31,
   "id": "dff91f7c",
   "metadata": {
    "scrolled": false
   },
   "outputs": [
    {
     "name": "stdout",
     "output_type": "stream",
     "text": [
      "Confusion matrix:\n"
     ]
    },
    {
     "data": {
      "text/plain": [
       "Text(0.5, 1.0, 'Digits')"
      ]
     },
     "execution_count": 31,
     "metadata": {},
     "output_type": "execute_result"
    },
    {
     "data": {
      "image/png": "[encoded data removed]",
      "text/plain": [
       "<Figure size 640x480 with 1 Axes>"
      ]
     },
     "metadata": {},
     "output_type": "display_data"
    }
   ],
   "source": [
    "# Confusion matrix\n",
    "print('Confusion matrix:')\n",
    "cm = confusion_matrix(yD_test, yD_pred)\n",
    "plt.imshow(cm, cmap=plt.cm.Reds);\n",
    "plt.xlabel('Ground truth');\n",
    "plt.ylabel('Prediction');\n",
    "plt.title(\"Digits\")"
   ]
  },
  {
   "cell_type": "code",
   "execution_count": 32,
   "id": "e587498e",
   "metadata": {},
   "outputs": [],
   "source": [
    "model_path = os.getcwd() + \"\\\\models\\\\RNN.h5\"\n",
    "\n",
    "model.save(model_path)"
   ]
  }
 ],
 "metadata": {
  "kernelspec": {
   "display_name": "Python 3 (ipykernel)",
   "language": "python",
   "name": "python3"
  },
  "language_info": {
   "codemirror_mode": {
    "name": "ipython",
    "version": 3
   },
   "file_extension": ".py",
   "mimetype": "text/x-python",
   "name": "python",
   "nbconvert_exporter": "python",
   "pygments_lexer": "ipython3",
   "version": "3.10.9"
  }
 },
 "nbformat": 4,
 "nbformat_minor": 5
}
